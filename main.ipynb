{
 "cells": [
  {
   "cell_type": "markdown",
   "metadata": {},
   "source": [
    "Imports "
   ]
  },
  {
   "cell_type": "code",
   "execution_count": 1,
   "metadata": {},
   "outputs": [],
   "source": [
    "import pandas as pd\n",
    "import numpy as np\n",
    "import seaborn as sns\n",
    "import json \n",
    "import matplotlib.pyplot as plt"
   ]
  },
  {
   "cell_type": "markdown",
   "metadata": {},
   "source": [
    "Constants"
   ]
  },
  {
   "cell_type": "code",
   "execution_count": 2,
   "metadata": {},
   "outputs": [],
   "source": [
    "VHT_LINE_COST = 1000000 #Euros\n",
    "HT_LINE_COST = 300000 #Euros\n",
    "TRANSFORMER_COST = 500000 #Euros\n",
    "\n",
    "VHT_VOLTAGE = 400000\n",
    "HT_VOLTAGE = 90000"
   ]
  },
  {
   "cell_type": "markdown",
   "metadata": {},
   "source": [
    "Plants Data"
   ]
  },
  {
   "cell_type": "code",
   "execution_count": 3,
   "metadata": {},
   "outputs": [
    {
     "data": {
      "text/html": [
       "<div>\n",
       "<style scoped>\n",
       "    .dataframe tbody tr th:only-of-type {\n",
       "        vertical-align: middle;\n",
       "    }\n",
       "\n",
       "    .dataframe tbody tr th {\n",
       "        vertical-align: top;\n",
       "    }\n",
       "\n",
       "    .dataframe thead th {\n",
       "        text-align: right;\n",
       "    }\n",
       "</style>\n",
       "<table border=\"1\" class=\"dataframe\">\n",
       "  <thead>\n",
       "    <tr style=\"text-align: right;\">\n",
       "      <th></th>\n",
       "      <th>Plants</th>\n",
       "      <th>x</th>\n",
       "      <th>y</th>\n",
       "      <th>production (MW)</th>\n",
       "    </tr>\n",
       "  </thead>\n",
       "  <tbody>\n",
       "    <tr>\n",
       "      <th>1</th>\n",
       "      <td>C1</td>\n",
       "      <td>300</td>\n",
       "      <td>100</td>\n",
       "      <td>900</td>\n",
       "    </tr>\n",
       "    <tr>\n",
       "      <th>2</th>\n",
       "      <td>C2</td>\n",
       "      <td>600</td>\n",
       "      <td>100</td>\n",
       "      <td>500</td>\n",
       "    </tr>\n",
       "    <tr>\n",
       "      <th>3</th>\n",
       "      <td>C3</td>\n",
       "      <td>700</td>\n",
       "      <td>200</td>\n",
       "      <td>1200</td>\n",
       "    </tr>\n",
       "    <tr>\n",
       "      <th>4</th>\n",
       "      <td>C4</td>\n",
       "      <td>900</td>\n",
       "      <td>700</td>\n",
       "      <td>450</td>\n",
       "    </tr>\n",
       "    <tr>\n",
       "      <th>5</th>\n",
       "      <td>C5</td>\n",
       "      <td>500</td>\n",
       "      <td>500</td>\n",
       "      <td>750</td>\n",
       "    </tr>\n",
       "    <tr>\n",
       "      <th>6</th>\n",
       "      <td>C6</td>\n",
       "      <td>400</td>\n",
       "      <td>900</td>\n",
       "      <td>1200</td>\n",
       "    </tr>\n",
       "  </tbody>\n",
       "</table>\n",
       "</div>"
      ],
      "text/plain": [
       "  Plants    x    y  production (MW)\n",
       "1     C1  300  100              900\n",
       "2     C2  600  100              500\n",
       "3     C3  700  200             1200\n",
       "4     C4  900  700              450\n",
       "5     C5  500  500              750\n",
       "6     C6  400  900             1200"
      ]
     },
     "execution_count": 3,
     "metadata": {},
     "output_type": "execute_result"
    }
   ],
   "source": [
    "df_plants = pd.read_excel(\"plants_table.xlsx\")\n",
    "df_plants.index += 1\n",
    "df_plants = pd.DataFrame(df_plants)\n",
    "df_plants"
   ]
  },
  {
   "cell_type": "markdown",
   "metadata": {},
   "source": [
    "Cities Data"
   ]
  },
  {
   "cell_type": "code",
   "execution_count": 4,
   "metadata": {},
   "outputs": [
    {
     "data": {
      "text/html": [
       "<div>\n",
       "<style scoped>\n",
       "    .dataframe tbody tr th:only-of-type {\n",
       "        vertical-align: middle;\n",
       "    }\n",
       "\n",
       "    .dataframe tbody tr th {\n",
       "        vertical-align: top;\n",
       "    }\n",
       "\n",
       "    .dataframe thead th {\n",
       "        text-align: right;\n",
       "    }\n",
       "</style>\n",
       "<table border=\"1\" class=\"dataframe\">\n",
       "  <thead>\n",
       "    <tr style=\"text-align: right;\">\n",
       "      <th></th>\n",
       "      <th>City</th>\n",
       "      <th>x</th>\n",
       "      <th>y</th>\n",
       "      <th>consumption (MW)</th>\n",
       "    </tr>\n",
       "  </thead>\n",
       "  <tbody>\n",
       "    <tr>\n",
       "      <th>1</th>\n",
       "      <td>V1</td>\n",
       "      <td>150</td>\n",
       "      <td>100</td>\n",
       "      <td>200</td>\n",
       "    </tr>\n",
       "    <tr>\n",
       "      <th>2</th>\n",
       "      <td>V2</td>\n",
       "      <td>400</td>\n",
       "      <td>80</td>\n",
       "      <td>300</td>\n",
       "    </tr>\n",
       "    <tr>\n",
       "      <th>3</th>\n",
       "      <td>V3</td>\n",
       "      <td>950</td>\n",
       "      <td>70</td>\n",
       "      <td>200</td>\n",
       "    </tr>\n",
       "    <tr>\n",
       "      <th>4</th>\n",
       "      <td>V4</td>\n",
       "      <td>30</td>\n",
       "      <td>120</td>\n",
       "      <td>250</td>\n",
       "    </tr>\n",
       "    <tr>\n",
       "      <th>5</th>\n",
       "      <td>V5</td>\n",
       "      <td>600</td>\n",
       "      <td>300</td>\n",
       "      <td>300</td>\n",
       "    </tr>\n",
       "    <tr>\n",
       "      <th>6</th>\n",
       "      <td>V6</td>\n",
       "      <td>20</td>\n",
       "      <td>450</td>\n",
       "      <td>250</td>\n",
       "    </tr>\n",
       "    <tr>\n",
       "      <th>7</th>\n",
       "      <td>V7</td>\n",
       "      <td>300</td>\n",
       "      <td>500</td>\n",
       "      <td>300</td>\n",
       "    </tr>\n",
       "    <tr>\n",
       "      <th>8</th>\n",
       "      <td>V8</td>\n",
       "      <td>950</td>\n",
       "      <td>450</td>\n",
       "      <td>300</td>\n",
       "    </tr>\n",
       "    <tr>\n",
       "      <th>9</th>\n",
       "      <td>V9</td>\n",
       "      <td>70</td>\n",
       "      <td>800</td>\n",
       "      <td>250</td>\n",
       "    </tr>\n",
       "    <tr>\n",
       "      <th>10</th>\n",
       "      <td>V10</td>\n",
       "      <td>350</td>\n",
       "      <td>750</td>\n",
       "      <td>150</td>\n",
       "    </tr>\n",
       "    <tr>\n",
       "      <th>11</th>\n",
       "      <td>V11</td>\n",
       "      <td>500</td>\n",
       "      <td>750</td>\n",
       "      <td>250</td>\n",
       "    </tr>\n",
       "    <tr>\n",
       "      <th>12</th>\n",
       "      <td>V12</td>\n",
       "      <td>600</td>\n",
       "      <td>800</td>\n",
       "      <td>300</td>\n",
       "    </tr>\n",
       "    <tr>\n",
       "      <th>13</th>\n",
       "      <td>V13</td>\n",
       "      <td>600</td>\n",
       "      <td>900</td>\n",
       "      <td>100</td>\n",
       "    </tr>\n",
       "    <tr>\n",
       "      <th>14</th>\n",
       "      <td>V14</td>\n",
       "      <td>750</td>\n",
       "      <td>750</td>\n",
       "      <td>250</td>\n",
       "    </tr>\n",
       "    <tr>\n",
       "      <th>15</th>\n",
       "      <td>V15</td>\n",
       "      <td>850</td>\n",
       "      <td>950</td>\n",
       "      <td>250</td>\n",
       "    </tr>\n",
       "  </tbody>\n",
       "</table>\n",
       "</div>"
      ],
      "text/plain": [
       "   City    x    y  consumption (MW)\n",
       "1    V1  150  100               200\n",
       "2    V2  400   80               300\n",
       "3    V3  950   70               200\n",
       "4    V4   30  120               250\n",
       "5    V5  600  300               300\n",
       "6    V6   20  450               250\n",
       "7    V7  300  500               300\n",
       "8    V8  950  450               300\n",
       "9    V9   70  800               250\n",
       "10  V10  350  750               150\n",
       "11  V11  500  750               250\n",
       "12  V12  600  800               300\n",
       "13  V13  600  900               100\n",
       "14  V14  750  750               250\n",
       "15  V15  850  950               250"
      ]
     },
     "execution_count": 4,
     "metadata": {},
     "output_type": "execute_result"
    }
   ],
   "source": [
    "df_cities = pd.read_excel(\"cities_table.xlsx\")\n",
    "df_cities.index += 1\n",
    "df_cities = pd.DataFrame(df_cities)\n",
    "df_cities"
   ]
  },
  {
   "cell_type": "markdown",
   "metadata": {},
   "source": [
    "Plant and City Network"
   ]
  },
  {
   "cell_type": "code",
   "execution_count": 5,
   "metadata": {},
   "outputs": [
    {
     "data": {
      "text/plain": [
       "<matplotlib.patches.Rectangle at 0x23188877608>"
      ]
     },
     "execution_count": 5,
     "metadata": {},
     "output_type": "execute_result"
    },
    {
     "data": {
      "image/png": "[encoded data removed]",
      "text/plain": [
       "<Figure size 576x432 with 1 Axes>"
      ]
     },
     "metadata": {
      "needs_background": "light"
     },
     "output_type": "display_data"
    }
   ],
   "source": [
    "import matplotlib.patches as mpatches\n",
    "from matplotlib import pyplot as plt, patches\n",
    "import numpy as np\n",
    "import matplotlib.pyplot as plt\n",
    "x_cityPoints, y_cityPoints, x_plantPoints, y_plantPoints= np.array(df_cities['x']), np.array(df_cities['y']), np.array(df_plants['x']), np.array(df_plants['y'])\n",
    "cityAnnotations, plantAnnotations=['V1','V2','V3','V4','V5','V6','V7','V8','V9','V10','V11','V12','V13','V14','V15'], ['C1','C2','C3','C4','C5','C6']\n",
    "plt.figure(figsize=(8,6))\n",
    "plt.scatter(x_cityPoints,y_cityPoints,s=50,color=\"green\", label = \"city\")\n",
    "plt.scatter(x_plantPoints,y_plantPoints,s=50,color=\"blue\", label = \"plant\")\n",
    "plt.xlabel(\"x_coordinates\")\n",
    "plt.ylabel(\"y_coordinates\")\n",
    "plt.legend(loc = \"upper left\")\n",
    "plt.title(\"Plant and City Network\", weight = \"bold\",fontsize=15)\n",
    "for i, label in enumerate(cityAnnotations):\n",
    "    plt.annotate(label, (x_cityPoints[i], y_cityPoints[i]))\n",
    "for i, label in enumerate(plantAnnotations):\n",
    "    plt.annotate(label, (x_plantPoints[i], y_plantPoints[i]))\n",
    "left, bottom, width, height = (0, 0, 200, 200)\n",
    "protected_area_topcorner = mpatches.Rectangle((left,bottom), width, height, alpha = 0.1, facecolor = \"red\")\n",
    "plt.gca().add_patch(protected_area_topcorner)\n",
    "left, bottom, width, height = (0, 700, 350, 300)\n",
    "protected_area_bottomcorner = mpatches.Rectangle((left,bottom), width, height, alpha = 0.1, facecolor = \"red\")\n",
    "plt.gca().add_patch(protected_area_bottomcorner)"
   ]
  },
  {
   "cell_type": "markdown",
   "metadata": {},
   "source": [
    "If one transformer per city entailed the minimum cost, we would have placed a transformer along a city's path from the nearest plant"
   ]
  },
  {
   "cell_type": "code",
   "execution_count": 6,
   "metadata": {},
   "outputs": [
    {
     "data": {
      "text/plain": [
       "[(150.0, 'C1'),\n",
       " (101.9803902718557, 'C1'),\n",
       " (281.7800560721074, 'C3'),\n",
       " (270.7397274136177, 'C1'),\n",
       " (141.4213562373095, 'C3'),\n",
       " (448.2186966202994, 'C1'),\n",
       " (200.0, 'C5'),\n",
       " (254.95097567963924, 'C4'),\n",
       " (344.81879299133334, 'C6'),\n",
       " (158.11388300841898, 'C6'),\n",
       " (180.27756377319946, 'C6'),\n",
       " (223.60679774997897, 'C6'),\n",
       " (200.0, 'C6'),\n",
       " (158.11388300841898, 'C4'),\n",
       " (254.95097567963924, 'C4')]"
      ]
     },
     "execution_count": 6,
     "metadata": {},
     "output_type": "execute_result"
    }
   ],
   "source": [
    "closest_plants_info = []\n",
    "for i in df_cities.index:\n",
    "    shortest_distance = 99999\n",
    "    closest_plant = (shortest_distance,\"xx\")\n",
    "    for j in df_plants.index:\n",
    "        euclidean_distance = np.sqrt(abs(df_cities[\"x\"][i] - df_plants[\"x\"][j])**2 + abs(df_cities[\"y\"][i] - df_plants[\"y\"][j])**2)\n",
    "        if(euclidean_distance < shortest_distance):\n",
    "            shortest_distance = euclidean_distance\n",
    "            closest_plant = (shortest_distance,df_plants[\"Plants\"][j])\n",
    "    closest_plants_info.append(closest_plant)\n",
    "closest_plants_info"
   ]
  },
  {
   "cell_type": "markdown",
   "metadata": {},
   "source": [
    "Clustering Algorithm"
   ]
  }
 ],
 "metadata": {
  "kernelspec": {
   "display_name": "Python 3.7.6 ('base')",
   "language": "python",
   "name": "python3"
  },
  "language_info": {
   "codemirror_mode": {
    "name": "ipython",
    "version": 3
   },
   "file_extension": ".py",
   "mimetype": "text/x-python",
   "name": "python",
   "nbconvert_exporter": "python",
   "pygments_lexer": "ipython3",
   "version": "3.7.6"
  },
  "orig_nbformat": 4,
  "vscode": {
   "interpreter": {
    "hash": "ad2bdc8ecc057115af97d19610ffacc2b4e99fae6737bb82f5d7fb13d2f2c186"
   }
  }
 },
 "nbformat": 4,
 "nbformat_minor": 2
}
